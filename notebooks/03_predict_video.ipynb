{
 "cells": [
  {
   "cell_type": "markdown",
   "metadata": {},
   "source": [
    "# Video Deepfake Prediction\n",
    "\n",
    "This notebook loads a trained deepfake detection model and runs it on a new video. It performs the following steps:\n",
    "\n",
    "1.  **Configuration**: Set paths for the input video and the trained model.\n",
    "2.  **Model Loading**: Load the specified model architecture and its saved weights.\n",
    "3.  **Video Processing**: \n",
    "    - Open the video file.\n",
    "    - For each frame (or a subset of frames), detect faces using MTCNN.\n",
    "    - For each detected face, run a `REAL` or `FAKE` prediction using the model.\n",
    "    - Draw a bounding box and the prediction result on the frame.\n",
    "4.  **Save Output**: Save the processed frames into a new output video file."
   ]
  },
  {
   "cell_type": "markdown",
   "metadata": {},
   "source": [
    "### Imports"
   ]
  },
  {
   "cell_type": "code",
   "execution_count": 12,
   "metadata": {},
   "outputs": [],
   "source": [
    "import os\n",
    "import cv2\n",
    "import torch\n",
    "from PIL import Image\n",
    "from torchvision import transforms\n",
    "from facenet_pytorch import MTCNN\n",
    "import timm\n",
    "from tqdm.notebook import tqdm # Use tqdm.notebook for better notebook integration"
   ]
  },
  {
   "cell_type": "markdown",
   "metadata": {},
   "source": [
    "### 1. Configuration\n",
    "\n",
    "**Action Required:** Change the `video_path` to point to your test video. Ensure `model_path` and `model_name` match the model you trained."
   ]
  },
  {
   "cell_type": "code",
   "execution_count": 13,
   "metadata": {},
   "outputs": [],
   "source": [
    "# --- Parameters to set ---\n",
    "video_path = \"../custom_test/test_videos/01.mp4\" # <--- CHANGE THIS\n",
    "model_path = \"../models/best_model_efficientnet_b3.pth\"          # Path to your trained model\n",
    "model_name = \"efficientnet_b3\"                                  # Model architecture used for training\n",
    "\n",
    "# --- Optional parameters ---\n",
    "output_dir = \"../custom_test/predictions\"                                  # Directory to save the output video\n",
    "frame_skip = 5                                                   # Process 1 frame every 'n' frames to speed up\n",
    "confidence_threshold = 0.95                                      # Confidence threshold for face detection"
   ]
  },
  {
   "cell_type": "markdown",
   "metadata": {},
   "source": [
    "### 2. Setup Device and Directories"
   ]
  },
  {
   "cell_type": "code",
   "execution_count": 14,
   "metadata": {},
   "outputs": [
    {
     "name": "stdout",
     "output_type": "stream",
     "text": [
      "Using device: cuda\n"
     ]
    }
   ],
   "source": [
    "device = torch.device('cuda' if torch.cuda.is_available() else 'cpu')\n",
    "print(f\"Using device: {device}\")\n",
    "\n",
    "os.makedirs(output_dir, exist_ok=True)"
   ]
  },
  {
   "cell_type": "markdown",
   "metadata": {},
   "source": [
    "### 3. Load Model and Face Detector"
   ]
  },
  {
   "cell_type": "code",
   "execution_count": 15,
   "metadata": {},
   "outputs": [
    {
     "name": "stdout",
     "output_type": "stream",
     "text": [
      "Loading model: efficientnet_b3 from ../models/best_model_efficientnet_b3.pth\n",
      "Model loaded successfully.\n",
      "Loading face detector...\n",
      "Face detector loaded.\n"
     ]
    }
   ],
   "source": [
    "# --- Load Deepfake Detection Model ---\n",
    "print(f\"Loading model: {model_name} from {model_path}\")\n",
    "try:\n",
    "    model = timm.create_model(model_name, pretrained=False, num_classes=2)\n",
    "    \n",
    "    # Get model-specific transforms\n",
    "    model_config = model.default_cfg\n",
    "    image_size = model_config['input_size'][1:]\n",
    "    mean = model_config['mean']\n",
    "    std = model_config['std']\n",
    "\n",
    "    model.load_state_dict(torch.load(model_path, map_location=device))\n",
    "    model = model.to(device)\n",
    "    model.eval()\n",
    "    print(\"Model loaded successfully.\")\n",
    "except Exception as e:\n",
    "    print(f\"Error loading model: {e}\")\n",
    "    print(\"Please ensure model_name and model_path are correct.\")\n",
    "\n",
    "# --- Load Face Detector ---\n",
    "print(\"Loading face detector...\")\n",
    "mtcnn = MTCNN(keep_all=True, device=device, post_process=False, min_face_size=40)\n",
    "print(\"Face detector loaded.\")"
   ]
  },
  {
   "cell_type": "markdown",
   "metadata": {},
   "source": [
    "### 4. Define Image Transforms\n",
    "\n",
    "These transforms must match the validation transforms used during training."
   ]
  },
  {
   "cell_type": "code",
   "execution_count": 16,
   "metadata": {},
   "outputs": [],
   "source": [
    "transform = transforms.Compose([\n",
    "    transforms.Resize(image_size),\n",
    "    transforms.ToTensor(),\n",
    "    transforms.Normalize(mean, std)\n",
    "])"
   ]
  },
  {
   "cell_type": "markdown",
   "metadata": {},
   "source": [
    "### 5. Process the Video\n",
    "\n",
    "This cell contains the main loop. It will read the video, detect faces, run predictions, and write the annotated frames to a new video file. This may take some time depending on the video length and your hardware."
   ]
  },
  {
   "cell_type": "code",
   "execution_count": 17,
   "metadata": {},
   "outputs": [
    {
     "data": {
      "application/vnd.jupyter.widget-view+json": {
       "model_id": "ac437049d1dc44fd8c1b2d1a317bd64b",
       "version_major": 2,
       "version_minor": 0
      },
      "text/plain": [
       "Processing video:   0%|          | 0/388 [00:00<?, ?it/s]"
      ]
     },
     "metadata": {},
     "output_type": "display_data"
    },
    {
     "name": "stdout",
     "output_type": "stream",
     "text": [
      "\n",
      "Processing complete. Output video saved to: ../custom_test/predictions\\predicted_01.mp4\n"
     ]
    }
   ],
   "source": [
    "# --- Open Video File ---\n",
    "cap = cv2.VideoCapture(video_path)\n",
    "if not cap.isOpened():\n",
    "    print(f\"Error: Could not open video file {video_path}\")\n",
    "else:\n",
    "    # --- Video Writer Setup ---\n",
    "    frame_width = int(cap.get(cv2.CAP_PROP_FRAME_WIDTH))\n",
    "    frame_height = int(cap.get(cv2.CAP_PROP_FRAME_HEIGHT))\n",
    "    fps = int(cap.get(cv2.CAP_PROP_FPS))\n",
    "    output_filename = os.path.join(output_dir, f\"predicted_{os.path.basename(video_path)}\")\n",
    "    out = cv2.VideoWriter(output_filename, cv2.VideoWriter_fourcc(*'mp4v'), fps, (frame_width, frame_height))\n",
    "\n",
    "    frame_count = 0\n",
    "    total_frames = int(cap.get(cv2.CAP_PROP_FRAME_COUNT))\n",
    "    \n",
    "    # --- Main Loop ---\n",
    "    with torch.no_grad(), tqdm(total=total_frames, desc=\"Processing video\") as pbar:\n",
    "        while cap.isOpened():\n",
    "            ret, frame = cap.read()\n",
    "            if not ret:\n",
    "                break\n",
    "\n",
    "            if frame_count % frame_skip == 0:\n",
    "                # Convert frame for face detection (BGR to RGB)\n",
    "                img_pil = Image.fromarray(cv2.cvtColor(frame, cv2.COLOR_BGR2RGB))\n",
    "                boxes, probs = mtcnn.detect(img_pil)\n",
    "\n",
    "                if boxes is not None:\n",
    "                    for box, prob in zip(boxes, probs):\n",
    "                        if prob < confidence_threshold:\n",
    "                            continue\n",
    "\n",
    "                        x1, y1, x2, y2 = [int(b) for b in box]\n",
    "                        \n",
    "                        # Ensure coordinates are within frame boundaries\n",
    "                        x1, y1 = max(0, x1), max(0, y1)\n",
    "                        x2, y2 = min(frame_width, x2), min(frame_height, y2)\n",
    "\n",
    "                        # Crop face and predict\n",
    "                        face_pil = img_pil.crop((x1, y1, x2, y2))\n",
    "                        \n",
    "                        if face_pil.size[0] == 0 or face_pil.size[1] == 0:\n",
    "                            continue\n",
    "\n",
    "                        face_tensor = transform(face_pil).unsqueeze(0).to(device)\n",
    "                        output = model(face_tensor)\n",
    "                        softmax_probs = torch.softmax(output, dim=1)\n",
    "                        pred_prob, pred_label = torch.max(softmax_probs, 1)\n",
    "                        \n",
    "                        label_text = \"REAL\" if pred_label.item() == 0 else \"FAKE\"\n",
    "                        confidence = pred_prob.item()\n",
    "                        \n",
    "                        # Set color based on prediction\n",
    "                        color = (0, 255, 0) if label_text == \"REAL\" else (0, 0, 255) # Green for REAL, Red for FAKE\n",
    "                        \n",
    "                        # Draw bounding box and label on the frame\n",
    "                        cv2.rectangle(frame, (x1, y1), (x2, y2), color, 2)\n",
    "                        label_display = f\"{label_text}: {confidence:.2f}\"\n",
    "                        cv2.putText(frame, label_display, (x1, y1 - 10), cv2.FONT_HERSHEY_SIMPLEX, 0.7, color, 2)\n",
    "\n",
    "            out.write(frame)\n",
    "            frame_count += 1\n",
    "            pbar.update(1)\n",
    "\n",
    "    # --- Release Resources ---\n",
    "    cap.release()\n",
    "    out.release()\n",
    "    print(f\"\\nProcessing complete. Output video saved to: {output_filename}\")"
   ]
  },
  {
   "cell_type": "code",
   "execution_count": null,
   "metadata": {},
   "outputs": [],
   "source": []
  }
 ],
 "metadata": {
  "kernelspec": {
   "display_name": "base",
   "language": "python",
   "name": "python3"
  },
  "language_info": {
   "codemirror_mode": {
    "name": "ipython",
    "version": 3
   },
   "file_extension": ".py",
   "mimetype": "text/x-python",
   "name": "python",
   "nbconvert_exporter": "python",
   "pygments_lexer": "ipython3",
   "version": "3.12.11"
  }
 },
 "nbformat": 4,
 "nbformat_minor": 4
}
